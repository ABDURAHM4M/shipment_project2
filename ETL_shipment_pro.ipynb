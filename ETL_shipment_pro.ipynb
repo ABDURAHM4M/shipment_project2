{
 "cells": [
  {
   "cell_type": "markdown",
   "id": "19fd81e9",
   "metadata": {},
   "source": [
    "# ETL_shipment_pro.ipynb\n",
    "Professional ETL notebook — run all cells"
   ]
  },
  {
   "cell_type": "code",
   "execution_count": null,
   "id": "3aecc8bc",
   "metadata": {},
   "outputs": [],
   "source": [
    "from pathlib import Path\n",
    "import pandas as pd\n",
    "import numpy as np\n",
    "import re\n",
    "\n",
    "DATA_DIR = Path('.')\n",
    "RAW_CSV = DATA_DIR / 'shipments_raw_demo.csv'\n",
    "CLEANED_CSV = DATA_DIR / 'cleaned_shipments.csv'\n",
    "ERRORS_CSV = DATA_DIR / 'errors.csv'\n",
    "BRANCH_WHITELIST = {'Addis','Dire','Bahir','Hawassa','Adama'}\n",
    "TRACKING_REGEX = re.compile(r'^AM-\\d{3}$')\n",
    "print('Working dir:', DATA_DIR)\n",
    "print('Raw CSV:', RAW_CSV)\n"
   ]
  },
  {
   "cell_type": "code",
   "execution_count": null,
   "id": "d578d104",
   "metadata": {},
   "outputs": [],
   "source": [
    "def load_raw(path: Path):\n",
    "    return pd.read_csv(path)\n",
    "\n",
    "def parse_dates(df):\n",
    "    for col in ['shipped_at','delivered_at']:\n",
    "        df[col] = pd.to_datetime(df[col], errors='coerce', dayfirst=False)\n",
    "    return df\n",
    "\n",
    "def coerce_numeric(df):\n",
    "    df['weight_kg'] = pd.to_numeric(df['weight_kg'], errors='coerce')\n",
    "    return df\n",
    "\n",
    "def clean_text(df):\n",
    "    df['branch'] = df['branch'].astype(str).str.strip().replace({'': None, 'None': None})\n",
    "    df['status'] = df['status'].astype(str).str.lower().str.replace(' ', '_')\n",
    "    return df\n",
    "\n",
    "def run_validations(df):\n",
    "    checks = pd.DataFrame(index=df.index)\n",
    "    checks['tracking_valid'] = df['tracking_number'].astype(str).apply(lambda x: bool(TRACKING_REGEX.match(x)) if pd.notna(x) and str(x)!='None' else False)\n",
    "    checks['branch_valid'] = df['branch'].isin(BRANCH_WHITELIST)\n",
    "    checks['ship_date_valid'] = df['shipped_at'].notna()\n",
    "    checks['delivery_date_valid'] = df['delivered_at'].isna() | (df['delivered_at'] >= df['shipped_at'])\n",
    "    checks['weight_valid'] = df['weight_kg'].notna() & (df['weight_kg'] > 0)\n",
    "    checks['duplicate_tracking'] = df.duplicated(['tracking_number'], keep=False)\n",
    "    return checks\n",
    "\n",
    "def split_errors(df, checks):\n",
    "    critical = ~(checks['tracking_valid'] & checks['ship_date_valid'] & checks['weight_valid'] & checks['delivery_date_valid'])\n",
    "    errors = df[critical].copy()\n",
    "    cleaned = df[~critical].copy()\n",
    "    return cleaned, errors\n",
    "\n",
    "def apply_cleaning(cleaned):\n",
    "    cleaned = cleaned.copy()\n",
    "    cleaned['branch'] = cleaned['branch'].fillna('Unknown')\n",
    "    cleaned['transit_days'] = (cleaned['delivered_at'] - cleaned['shipped_at']).dt.days\n",
    "    return cleaned\n"
   ]
  },
  {
   "cell_type": "code",
   "execution_count": null,
   "id": "868c2c2a",
   "metadata": {},
   "outputs": [],
   "source": [
    "raw = load_raw(RAW_CSV)\n",
    "print('Loaded rows:', len(raw))\n",
    "raw.head()"
   ]
  },
  {
   "cell_type": "code",
   "execution_count": null,
   "id": "7ec5d37d",
   "metadata": {},
   "outputs": [],
   "source": [
    "df = raw.copy()\n",
    "df = df.pipe(clean_text).pipe(parse_dates).pipe(coerce_numeric)\n",
    "checks = run_validations(df)\n",
    "print('Failures per rule:')\n",
    "print(checks.apply(lambda s: (~s).sum()))"
   ]
  },
  {
   "cell_type": "code",
   "execution_count": null,
   "id": "646fa9c5",
   "metadata": {},
   "outputs": [],
   "source": [
    "cleaned, errors = split_errors(df, checks)\n",
    "cleaned = apply_cleaning(cleaned)\n",
    "print('Cleaned rows:', len(cleaned), 'Error rows:', len(errors))\n",
    "cleaned.head()"
   ]
  },
  {
   "cell_type": "code",
   "execution_count": null,
   "id": "ae5520f1",
   "metadata": {},
   "outputs": [],
   "source": [
    "assert cleaned['tracking_number'].notna().all(), 'Null tracking numbers in cleaned data!'\n",
    "assert cleaned['branch'].isin(BRANCH_WHITELIST | {'Unknown'}).all(), 'Unexpected branch label in cleaned data!'\n",
    "assert (cleaned['weight_kg'] > 0).all(), 'Non-positive weight detected in cleaned data!'\n",
    "assert not cleaned.duplicated(['tracking_number']).any(), 'Duplicate tracking numbers remain in cleaned data!'\n",
    "print('All assertions passed.')"
   ]
  },
  {
   "cell_type": "code",
   "execution_count": null,
   "id": "038e3d57",
   "metadata": {},
   "outputs": [],
   "source": [
    "cleaned.to_csv(CLEANED_CSV, index=False)\n",
    "errors.to_csv(ERRORS_CSV, index=False)\n",
    "print('Saved cleaned to', CLEANED_CSV)\n",
    "print('Saved errors to', ERRORS_CSV)\n"
   ]
  }
 ],
 "metadata": {},
 "nbformat": 4,
 "nbformat_minor": 5
}
