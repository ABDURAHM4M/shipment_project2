{
 "cells": [
  {
   "cell_type": "markdown",
   "id": "47b678f8",
   "metadata": {},
   "source": [
    "# Dashboard_shipment_pro.ipynb\n",
    "KPIs and charts for cleaned data. Run ETL first."
   ]
  },
  {
   "cell_type": "code",
   "execution_count": null,
   "id": "a3e5f81a",
   "metadata": {},
   "outputs": [],
   "source": [
    "from pathlib import Path\n",
    "import pandas as pd\n",
    "import matplotlib.pyplot as plt\n",
    "DATA_DIR = Path('.')\n",
    "CLEANED_CSV = DATA_DIR / 'cleaned_shipments.csv'\n",
    "REPORT_PDF = DATA_DIR / 'shipment_report.pdf'\n",
    "if not CLEANED_CSV.exists():\n",
    "    raise FileNotFoundError('Run ETL_shipment_pro.ipynb first')\n",
    "df = pd.read_csv(CLEANED_CSV, parse_dates=['shipped_at','delivered_at'])\n",
    "print('Loaded', len(df), 'rows')"
   ]
  },
  {
   "cell_type": "code",
   "execution_count": null,
   "id": "3a80828f",
   "metadata": {},
   "outputs": [],
   "source": [
    "total_shipments = len(df)\n",
    "total_claims = int(df['claims'].sum())\n",
    "claims_per_100 = (total_claims/total_shipments*100) if total_shipments else 0\n",
    "delivered_ratio = df['status'].eq('delivered').mean() if total_shipments else 0\n",
    "avg_transit_days = df['transit_days'].dropna().mean()\n",
    "kpi = {'total_shipments': int(total_shipments),'total_claims': total_claims,'claims_per_100': round(float(claims_per_100),2),'delivered_ratio': round(float(delivered_ratio),4),'avg_transit_days': None if pd.isna(avg_transit_days) else round(float(avg_transit_days),2)}\n",
    "kpi"
   ]
  },
  {
   "cell_type": "code",
   "execution_count": null,
   "id": "041391c3",
   "metadata": {},
   "outputs": [],
   "source": [
    "shipments_by_day = df.groupby(df['shipped_at'].dt.date).size().sort_index()\n",
    "fig = plt.figure(figsize=(8,4))\n",
    "plt.plot(shipments_by_day.index, shipments_by_day.values)\n",
    "plt.title('Shipments per day')\n",
    "plt.xlabel('Date')\n",
    "plt.ylabel('Number of shipments')\n",
    "plt.tight_layout()\n",
    "fig.savefig('chart1_shipments_per_day.png')\n",
    "plt.show()"
   ]
  },
  {
   "cell_type": "code",
   "execution_count": null,
   "id": "82ad8874",
   "metadata": {},
   "outputs": [],
   "source": [
    "claims_by_branch = df.groupby('branch')['claims'].sum().sort_values(ascending=False)\n",
    "fig = plt.figure(figsize=(8,4))\n",
    "plt.bar(claims_by_branch.index, claims_by_branch.values)\n",
    "plt.title('Claims by branch')\n",
    "plt.xlabel('Branch')\n",
    "plt.ylabel('Number of claims')\n",
    "plt.tight_layout()\n",
    "fig.savefig('chart2_claims_by_branch.png')\n",
    "plt.show()"
   ]
  },
  {
   "cell_type": "code",
   "execution_count": null,
   "id": "b5e02440",
   "metadata": {},
   "outputs": [],
   "source": [
    "status_counts = df['status'].fillna('unknown').value_counts()\n",
    "fig = plt.figure(figsize=(6,6))\n",
    "plt.pie(status_counts.values, labels=status_counts.index, autopct='%1.1f%%')\n",
    "plt.title('Status distribution')\n",
    "fig.savefig('chart3_status_distribution.png')\n",
    "plt.show()"
   ]
  },
  {
   "cell_type": "code",
   "execution_count": null,
   "id": "5d307458",
   "metadata": {},
   "outputs": [],
   "source": [
    "avg_transit = df.groupby('branch')['transit_days'].mean().dropna().sort_values(ascending=False)\n",
    "fig = plt.figure(figsize=(8,4))\n",
    "plt.bar(avg_transit.index, avg_transit.values)\n",
    "plt.title('Average transit days by branch')\n",
    "plt.xlabel('Branch')\n",
    "plt.ylabel('Avg transit days')\n",
    "plt.tight_layout()\n",
    "fig.savefig('chart4_avg_transit_by_branch.png')\n",
    "plt.show()"
   ]
  },
  {
   "cell_type": "code",
   "execution_count": null,
   "id": "35cc7139",
   "metadata": {},
   "outputs": [],
   "source": [
    "branch_counts = df.groupby('branch').size()\n",
    "branch_claims = df.groupby('branch')['claims'].sum()\n",
    "claims_rate_100 = (branch_claims/branch_counts*100).sort_values(ascending=False)\n",
    "fig = plt.figure(figsize=(8,4))\n",
    "plt.bar(claims_rate_100.index, claims_rate_100.values)\n",
    "plt.title('Claims per 100 shipments by branch')\n",
    "plt.xlabel('Branch')\n",
    "plt.ylabel('Claims per 100 shipments')\n",
    "plt.tight_layout()\n",
    "fig.savefig('chart5_claims_rate_per100.png')\n",
    "plt.show()"
   ]
  },
  {
   "cell_type": "code",
   "execution_count": null,
   "id": "f4fa7530",
   "metadata": {},
   "outputs": [],
   "source": [
    "weights = df['weight_kg'].dropna()\n",
    "fig = plt.figure(figsize=(8,4))\n",
    "plt.hist(weights, bins=20)\n",
    "plt.title('Weight distribution')\n",
    "plt.xlabel('Weight (kg)')\n",
    "plt.ylabel('Frequency')\n",
    "plt.tight_layout()\n",
    "fig.savefig('chart6_weight_hist.png')\n",
    "plt.show()"
   ]
  },
  {
   "cell_type": "code",
   "execution_count": null,
   "id": "c0e2d8d6",
   "metadata": {},
   "outputs": [],
   "source": [
    "from matplotlib.backends.backend_pdf import PdfPages\n",
    "from pathlib import Path\n",
    "with PdfPages(REPORT_PDF) as pdf:\n",
    "    fig = plt.figure(figsize=(8.27,11.69))\n",
    "    plt.axis('off')\n",
    "    text = ('Shipment Analytics Report\\n\\n' f'Total shipments: {kpi[\"total_shipments\"]}\\n' f'Total claims: {kpi[\"total_claims\"]}\\n' f'Claims per 100 shipments: {kpi[\"claims_per_100\"]}\\n' f'Delivered ratio: {kpi[\"delivered_ratio\"]}\\n' f'Average transit days: {kpi[\"avg_transit_days\"]}\\n')\n",
    "    plt.text(0.1,0.9,text,va='top',fontsize=14)\n",
    "    pdf.savefig(fig)\n",
    "    plt.close(fig)\n",
    "    for fname in ['chart1_shipments_per_day.png','chart2_claims_by_branch.png','chart3_status_distribution.png','chart4_avg_transit_by_branch.png','chart5_claims_rate_per100.png','chart6_weight_hist.png']:\n",
    "        p = Path(fname)\n",
    "        if p.exists():\n",
    "            img = plt.imread(p)\n",
    "            fig = plt.figure(figsize=(8.27,11.69))\n",
    "            plt.axis('off')\n",
    "            plt.imshow(img)\n",
    "            pdf.savefig(fig)\n",
    "            plt.close(fig)\n",
    "print('Saved report to', REPORT_PDF)\n"
   ]
  }
 ],
 "metadata": {},
 "nbformat": 4,
 "nbformat_minor": 5
}
